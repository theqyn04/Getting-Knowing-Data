{
 "cells": [
  {
   "cell_type": "code",
   "execution_count": null,
   "id": "initial_id",
   "metadata": {
    "collapsed": true
   },
   "outputs": [],
   "source": ""
  },
  {
   "metadata": {
    "ExecuteTime": {
     "end_time": "2025-10-05T01:55:41.992046Z",
     "start_time": "2025-10-05T01:55:41.989402Z"
    }
   },
   "cell_type": "code",
   "source": "import numpy as np",
   "id": "e1a62b0b78d4bd06",
   "outputs": [],
   "execution_count": 2
  },
  {
   "metadata": {},
   "cell_type": "markdown",
   "source": "## Creating array",
   "id": "6f6bbe0b3cf98dc7"
  },
  {
   "metadata": {
    "ExecuteTime": {
     "end_time": "2025-10-05T01:59:57.273812Z",
     "start_time": "2025-10-05T01:59:57.263048Z"
    }
   },
   "cell_type": "code",
   "source": "np.array([1,2,3,4], dtype='float32')",
   "id": "35220ddad87d6719",
   "outputs": [
    {
     "data": {
      "text/plain": [
       "array([1., 2., 3., 4.], dtype=float32)"
      ]
     },
     "execution_count": 3,
     "metadata": {},
     "output_type": "execute_result"
    }
   ],
   "execution_count": 3
  },
  {
   "metadata": {
    "ExecuteTime": {
     "end_time": "2025-10-05T02:00:29.599206Z",
     "start_time": "2025-10-05T02:00:29.593828Z"
    }
   },
   "cell_type": "code",
   "source": "np.array([3.14, 4, 2, 3])",
   "id": "12cca92dd19f1da",
   "outputs": [
    {
     "data": {
      "text/plain": [
       "array([3.14, 4.  , 2.  , 3.  ])"
      ]
     },
     "execution_count": 4,
     "metadata": {},
     "output_type": "execute_result"
    }
   ],
   "execution_count": 4
  },
  {
   "metadata": {
    "ExecuteTime": {
     "end_time": "2025-10-05T02:01:14.144440Z",
     "start_time": "2025-10-05T02:01:14.141412Z"
    }
   },
   "cell_type": "code",
   "source": "a1 = np.array([1,23,4])",
   "id": "9bf5aa500602c24d",
   "outputs": [],
   "execution_count": 6
  },
  {
   "metadata": {
    "ExecuteTime": {
     "end_time": "2025-10-05T02:01:15.779117Z",
     "start_time": "2025-10-05T02:01:15.774973Z"
    }
   },
   "cell_type": "code",
   "source": "type(a1)",
   "id": "b82f1308c1bc792f",
   "outputs": [
    {
     "data": {
      "text/plain": [
       "numpy.ndarray"
      ]
     },
     "execution_count": 7,
     "metadata": {},
     "output_type": "execute_result"
    }
   ],
   "execution_count": 7
  },
  {
   "metadata": {
    "ExecuteTime": {
     "end_time": "2025-10-05T02:01:57.759263Z",
     "start_time": "2025-10-05T02:01:57.755946Z"
    }
   },
   "cell_type": "code",
   "source": [
    "a2 = np.array([[1,2,3],\n",
    "              [4,5,6]])"
   ],
   "id": "59d06dab8f9fc5d3",
   "outputs": [],
   "execution_count": 9
  },
  {
   "metadata": {
    "ExecuteTime": {
     "end_time": "2025-10-05T02:02:10.468892Z",
     "start_time": "2025-10-05T02:02:10.464572Z"
    }
   },
   "cell_type": "code",
   "source": "type(a2)",
   "id": "39e3cdc62d28ab31",
   "outputs": [
    {
     "data": {
      "text/plain": [
       "numpy.ndarray"
      ]
     },
     "execution_count": 10,
     "metadata": {},
     "output_type": "execute_result"
    }
   ],
   "execution_count": 10
  },
  {
   "metadata": {
    "ExecuteTime": {
     "end_time": "2025-10-05T02:02:20.389952Z",
     "start_time": "2025-10-05T02:02:20.385967Z"
    }
   },
   "cell_type": "code",
   "source": "a2.shape",
   "id": "783eda81ece37421",
   "outputs": [
    {
     "data": {
      "text/plain": [
       "(2, 3)"
      ]
     },
     "execution_count": 11,
     "metadata": {},
     "output_type": "execute_result"
    }
   ],
   "execution_count": 11
  },
  {
   "metadata": {
    "ExecuteTime": {
     "end_time": "2025-10-05T02:02:32.128925Z",
     "start_time": "2025-10-05T02:02:32.124268Z"
    }
   },
   "cell_type": "code",
   "source": "a2.ndim",
   "id": "3dc2c09ff25c0d0d",
   "outputs": [
    {
     "data": {
      "text/plain": [
       "2"
      ]
     },
     "execution_count": 12,
     "metadata": {},
     "output_type": "execute_result"
    }
   ],
   "execution_count": 12
  },
  {
   "metadata": {
    "ExecuteTime": {
     "end_time": "2025-10-05T02:02:54.757988Z",
     "start_time": "2025-10-05T02:02:54.753594Z"
    }
   },
   "cell_type": "code",
   "source": "a2.dtype",
   "id": "aec24633defa3f5f",
   "outputs": [
    {
     "data": {
      "text/plain": [
       "dtype('int64')"
      ]
     },
     "execution_count": 13,
     "metadata": {},
     "output_type": "execute_result"
    }
   ],
   "execution_count": 13
  },
  {
   "metadata": {
    "ExecuteTime": {
     "end_time": "2025-10-05T02:03:05.092442Z",
     "start_time": "2025-10-05T02:03:05.087582Z"
    }
   },
   "cell_type": "code",
   "source": "a2.size",
   "id": "60de527850264ef",
   "outputs": [
    {
     "data": {
      "text/plain": [
       "6"
      ]
     },
     "execution_count": 14,
     "metadata": {},
     "output_type": "execute_result"
    }
   ],
   "execution_count": 14
  },
  {
   "metadata": {},
   "cell_type": "markdown",
   "source": "## Creating Numpy Arrays from Scratch",
   "id": "6f65456d2c57524"
  },
  {
   "metadata": {},
   "cell_type": "markdown",
   "source": "### zeros, ones, full, arange, linspace",
   "id": "f4933d1ba29182e4"
  },
  {
   "metadata": {
    "ExecuteTime": {
     "end_time": "2025-10-05T02:06:26.996836Z",
     "start_time": "2025-10-05T02:06:26.991767Z"
    }
   },
   "cell_type": "code",
   "source": "np.zeros([2,4], dtype='int')",
   "id": "189d6afcd450301c",
   "outputs": [
    {
     "data": {
      "text/plain": [
       "array([[0, 0, 0, 0],\n",
       "       [0, 0, 0, 0]])"
      ]
     },
     "execution_count": 17,
     "metadata": {},
     "output_type": "execute_result"
    }
   ],
   "execution_count": 17
  },
  {
   "metadata": {
    "ExecuteTime": {
     "end_time": "2025-10-05T02:07:28.598691Z",
     "start_time": "2025-10-05T02:07:28.592850Z"
    }
   },
   "cell_type": "code",
   "source": "np.ones([3,5], dtype='float')",
   "id": "f32509cd2be0a8b1",
   "outputs": [
    {
     "data": {
      "text/plain": [
       "array([[1., 1., 1., 1., 1.],\n",
       "       [1., 1., 1., 1., 1.],\n",
       "       [1., 1., 1., 1., 1.]])"
      ]
     },
     "execution_count": 18,
     "metadata": {},
     "output_type": "execute_result"
    }
   ],
   "execution_count": 18
  },
  {
   "metadata": {
    "ExecuteTime": {
     "end_time": "2025-10-05T02:08:39.154278Z",
     "start_time": "2025-10-05T02:08:39.149107Z"
    }
   },
   "cell_type": "code",
   "source": "np.arange(0,20,2)",
   "id": "e107ce3887dd8af8",
   "outputs": [
    {
     "data": {
      "text/plain": [
       "array([ 0,  2,  4,  6,  8, 10, 12, 14, 16, 18])"
      ]
     },
     "execution_count": 19,
     "metadata": {},
     "output_type": "execute_result"
    }
   ],
   "execution_count": 19
  },
  {
   "metadata": {
    "ExecuteTime": {
     "end_time": "2025-10-05T02:09:29.181283Z",
     "start_time": "2025-10-05T02:09:29.176084Z"
    }
   },
   "cell_type": "code",
   "source": "np.full([3,5], 6.9)",
   "id": "6307fbb51c3f2e84",
   "outputs": [
    {
     "data": {
      "text/plain": [
       "array([[6.9, 6.9, 6.9, 6.9, 6.9],\n",
       "       [6.9, 6.9, 6.9, 6.9, 6.9],\n",
       "       [6.9, 6.9, 6.9, 6.9, 6.9]])"
      ]
     },
     "execution_count": 20,
     "metadata": {},
     "output_type": "execute_result"
    }
   ],
   "execution_count": 20
  },
  {
   "metadata": {
    "ExecuteTime": {
     "end_time": "2025-10-05T02:10:31.339998Z",
     "start_time": "2025-10-05T02:10:31.334767Z"
    }
   },
   "cell_type": "code",
   "source": "np.linspace(0,1, 5)",
   "id": "c070ab68a06fc574",
   "outputs": [
    {
     "data": {
      "text/plain": [
       "array([0.  , 0.25, 0.5 , 0.75, 1.  ])"
      ]
     },
     "execution_count": 22,
     "metadata": {},
     "output_type": "execute_result"
    }
   ],
   "execution_count": 22
  },
  {
   "metadata": {},
   "cell_type": "markdown",
   "source": "### random",
   "id": "ae4eefb049ef1eb3"
  },
  {
   "metadata": {
    "ExecuteTime": {
     "end_time": "2025-10-05T02:11:58.034122Z",
     "start_time": "2025-10-05T02:11:58.028937Z"
    }
   },
   "cell_type": "code",
   "source": "np.random.random((4,4))",
   "id": "f5ecac7f181132fd",
   "outputs": [
    {
     "data": {
      "text/plain": [
       "array([[0.46596008, 0.74448466, 0.02294844, 0.94704998],\n",
       "       [0.66754205, 0.69890788, 0.57986813, 0.08387975],\n",
       "       [0.15778187, 0.02031717, 0.93134246, 0.91194436],\n",
       "       [0.14592656, 0.98969633, 0.06414282, 0.86927781]])"
      ]
     },
     "execution_count": 23,
     "metadata": {},
     "output_type": "execute_result"
    }
   ],
   "execution_count": 23
  },
  {
   "metadata": {
    "ExecuteTime": {
     "end_time": "2025-10-05T02:13:20.725883Z",
     "start_time": "2025-10-05T02:13:20.720548Z"
    }
   },
   "cell_type": "code",
   "source": [
    "np.random.seed(0)\n",
    "np.random.random((4,4))"
   ],
   "id": "a829f03254a5c708",
   "outputs": [
    {
     "data": {
      "text/plain": [
       "array([[0.5488135 , 0.71518937, 0.60276338, 0.54488318],\n",
       "       [0.4236548 , 0.64589411, 0.43758721, 0.891773  ],\n",
       "       [0.96366276, 0.38344152, 0.79172504, 0.52889492],\n",
       "       [0.56804456, 0.92559664, 0.07103606, 0.0871293 ]])"
      ]
     },
     "execution_count": 26,
     "metadata": {},
     "output_type": "execute_result"
    }
   ],
   "execution_count": 26
  },
  {
   "metadata": {
    "ExecuteTime": {
     "end_time": "2025-10-05T02:13:33.509382Z",
     "start_time": "2025-10-05T02:13:33.503792Z"
    }
   },
   "cell_type": "code",
   "source": [
    "np.random.seed(0)\n",
    "np.random.random((4,4))"
   ],
   "id": "8b6f41b88ed2e025",
   "outputs": [
    {
     "data": {
      "text/plain": [
       "array([[0.5488135 , 0.71518937, 0.60276338, 0.54488318],\n",
       "       [0.4236548 , 0.64589411, 0.43758721, 0.891773  ],\n",
       "       [0.96366276, 0.38344152, 0.79172504, 0.52889492],\n",
       "       [0.56804456, 0.92559664, 0.07103606, 0.0871293 ]])"
      ]
     },
     "execution_count": 27,
     "metadata": {},
     "output_type": "execute_result"
    }
   ],
   "execution_count": 27
  },
  {
   "metadata": {
    "ExecuteTime": {
     "end_time": "2025-10-05T02:14:21.975835Z",
     "start_time": "2025-10-05T02:14:21.970694Z"
    }
   },
   "cell_type": "code",
   "source": "np.random.normal(0,1, (3,3))",
   "id": "531ae87323889d3d",
   "outputs": [
    {
     "data": {
      "text/plain": [
       "array([[ 0.44386323,  0.33367433,  1.49407907],\n",
       "       [-0.20515826,  0.3130677 , -0.85409574],\n",
       "       [-2.55298982,  0.6536186 ,  0.8644362 ]])"
      ]
     },
     "execution_count": 28,
     "metadata": {},
     "output_type": "execute_result"
    }
   ],
   "execution_count": 28
  }
 ],
 "metadata": {
  "kernelspec": {
   "display_name": "Python 3",
   "language": "python",
   "name": "python3"
  },
  "language_info": {
   "codemirror_mode": {
    "name": "ipython",
    "version": 2
   },
   "file_extension": ".py",
   "mimetype": "text/x-python",
   "name": "python",
   "nbconvert_exporter": "python",
   "pygments_lexer": "ipython2",
   "version": "2.7.6"
  }
 },
 "nbformat": 4,
 "nbformat_minor": 5
}
