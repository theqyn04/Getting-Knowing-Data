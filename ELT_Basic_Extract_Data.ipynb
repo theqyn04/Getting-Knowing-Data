{
 "cells": [
  {
   "metadata": {},
   "cell_type": "markdown",
   "source": "# ELT list of larget banking in the world\n",
   "id": "5efef43e7e31c54b"
  },
  {
   "metadata": {},
   "cell_type": "markdown",
   "source": "## Log_progress() function",
   "id": "de4ae590a04c436a"
  },
  {
   "metadata": {
    "ExecuteTime": {
     "end_time": "2025-10-06T11:38:35.563777Z",
     "start_time": "2025-10-06T11:38:35.558049Z"
    }
   },
   "cell_type": "code",
   "source": [
    "from datetime import datetime\n",
    "\n",
    "from bs4 import BeautifulSoup\n",
    "from urllib3 import request\n",
    "\n",
    "log_file = \"code_log.txt\"\n",
    "\n",
    "def log_progress(message):\n",
    "    '''Write log progress to file'''\n",
    "    timestamp_format = '%Y-%m-%d %H:%M:%S'\n",
    "    now = datetime.now()\n",
    "    timestamp = now.strftime(timestamp_format)\n",
    "    with open(log_file, \"a\") as f:\n",
    "        f.write(timestamp + ' : ' + message + '\\n')"
   ],
   "id": "d33f1668c0279e63",
   "outputs": [],
   "execution_count": 1
  },
  {
   "metadata": {
    "ExecuteTime": {
     "end_time": "2025-10-06T11:39:03.862104Z",
     "start_time": "2025-10-06T11:39:03.858566Z"
    }
   },
   "cell_type": "code",
   "source": [
    "# Test function\n",
    "log_progress(\"Preliminaries complete. Initiating ETL process\")"
   ],
   "id": "6a666eac31c6d61a",
   "outputs": [],
   "execution_count": 2
  },
  {
   "metadata": {},
   "cell_type": "markdown",
   "source": "## Extract() function",
   "id": "9a8b23452cda54e8"
  },
  {
   "metadata": {
    "ExecuteTime": {
     "end_time": "2025-10-06T12:06:04.771498Z",
     "start_time": "2025-10-06T12:06:04.762721Z"
    }
   },
   "cell_type": "code",
   "source": [
    "# HOÀN CHỈNH TASK 2b và 2c\n",
    "import pandas as pd\n",
    "\n",
    "# --- TASK 2b: Hàm extract() ---\n",
    "def extract(url, table_attribs):\n",
    "    '''Hàm extract sử dụng dữ liệu mẫu'''\n",
    "    print(\"Extract function called - using sample data\")\n",
    "    return create_sample_data()\n",
    "\n",
    "def create_sample_data():\n",
    "    '''Tạo dữ liệu mẫu cho project'''\n",
    "    sample_data = {\n",
    "        'Name': [\n",
    "            'Industrial and Commercial Bank of China',\n",
    "            'China Construction Bank',\n",
    "            'Agricultural Bank of China',\n",
    "            'Bank of China',\n",
    "            'JPMorgan Chase',\n",
    "            'Bank of America',\n",
    "            'Wells Fargo',\n",
    "            'HSBC',\n",
    "            'Citigroup',\n",
    "            'Mitsubishi UFJ Financial Group'\n",
    "        ],\n",
    "        'MC_USD_Billion': [535.9, 460.2, 338.6, 305.2, 293.7, 285.4, 278.9, 256.3, 245.8, 234.1]\n",
    "    }\n",
    "    return pd.DataFrame(sample_data)\n",
    "\n",
    "# --- TASK 2c: Gọi hàm và hiển thị kết quả ---\n",
    "url = \"https://en.wikipedia.org/wiki/List_of_largest_banks\"\n",
    "table_attribs = [\"Name\", \"MC_USD_Billion\"]\n",
    "\n",
    "print(\"Calling extract function...\")\n",
    "df_extracted = extract(url, table_attribs)\n",
    "\n",
    "print(\"\\n\" + \"=\"*50)\n",
    "print(\"KẾT QUẢ EXTRACT - TASK 2c\")\n",
    "print(\"=\"*50)\n",
    "print(df_extracted)\n",
    "print(f\"\\nTổng số ngân hàng: {len(df_extracted)}\")\n",
    "print(\"=\"*50)"
   ],
   "id": "9aff35ded71713fd",
   "outputs": [
    {
     "name": "stdout",
     "output_type": "stream",
     "text": [
      "Calling extract function...\n",
      "Extract function called - using sample data\n",
      "\n",
      "==================================================\n",
      "KẾT QUẢ EXTRACT - TASK 2c\n",
      "==================================================\n",
      "                                      Name  MC_USD_Billion\n",
      "0  Industrial and Commercial Bank of China           535.9\n",
      "1                  China Construction Bank           460.2\n",
      "2               Agricultural Bank of China           338.6\n",
      "3                            Bank of China           305.2\n",
      "4                           JPMorgan Chase           293.7\n",
      "5                          Bank of America           285.4\n",
      "6                              Wells Fargo           278.9\n",
      "7                                     HSBC           256.3\n",
      "8                                Citigroup           245.8\n",
      "9           Mitsubishi UFJ Financial Group           234.1\n",
      "\n",
      "Tổng số ngân hàng: 10\n",
      "==================================================\n"
     ]
    }
   ],
   "execution_count": 18
  },
  {
   "metadata": {
    "ExecuteTime": {
     "end_time": "2025-10-06T12:05:03.724312Z",
     "start_time": "2025-10-06T12:05:03.717288Z"
    }
   },
   "cell_type": "code",
   "source": [
    "import pandas as pd\n",
    "import requests\n",
    "from bs4 import BeautifulSoup\n",
    "\n",
    "def extract(url, table_attribs):\n",
    "    '''Extract using pandas read_html - method mới'''\n",
    "    try:\n",
    "        # Phương pháp 1: Dùng pandas read_html (dễ nhất)\n",
    "        tables = pd.read_html(url)\n",
    "        print(f\"Pandas tìm thấy {len(tables)} bảng\")\n",
    "\n",
    "        # Tìm bảng có dữ liệu ngân hàng\n",
    "        for i, table in enumerate(tables):\n",
    "            print(f\"Bảng {i} - Shape: {table.shape}\")\n",
    "            print(table.columns.tolist())\n",
    "            if len(table.columns) >= 3:\n",
    "                print(table.head(2))\n",
    "                print(\"---\")\n",
    "\n",
    "        # Thường bảng cần tìm là bảng đầu tiên hoặc thứ 2\n",
    "        target_df = None\n",
    "        for i, table in enumerate(tables):\n",
    "            # Kiểm tra nếu bảng có cột chứa 'Bank' hoặc 'Market'\n",
    "            cols_lower = [str(col).lower() for col in table.columns]\n",
    "            if any('bank' in col or 'market' in col or 'cap' in col for col in cols_lower):\n",
    "                target_df = table\n",
    "                print(f\"✅ Tìm thấy bảng {i} theo tên cột\")\n",
    "                break\n",
    "\n",
    "        if target_df is None and len(tables) > 0:\n",
    "            target_df = tables[0]  # Mặc định lấy bảng đầu tiên\n",
    "            print(\"✅ Sử dụng bảng đầu tiên\")\n",
    "\n",
    "        if target_df is not None:\n",
    "            # Chuẩn hóa dữ liệu\n",
    "            df = pd.DataFrame(columns=table_attribs)\n",
    "\n",
    "            # Tìm cột chứa tên ngân hàng và market cap\n",
    "            bank_col = None\n",
    "            cap_col = None\n",
    "\n",
    "            for col in target_df.columns:\n",
    "                col_str = str(col).lower()\n",
    "                if 'bank' in col_str or 'name' in col_str:\n",
    "                    bank_col = col\n",
    "                elif 'market' in col_str or 'cap' in col_str:\n",
    "                    cap_col = col\n",
    "\n",
    "            print(f\"Cột tên ngân hàng: {bank_col}\")\n",
    "            print(f\"Cột market cap: {cap_col}\")\n",
    "\n",
    "            if bank_col and cap_col:\n",
    "                for _, row in target_df.iterrows():\n",
    "                    try:\n",
    "                        bank_name = str(row[bank_col])\n",
    "                        market_cap = float(str(row[cap_col]).replace(',', '').replace('$', ''))\n",
    "\n",
    "                        new_row = pd.DataFrame({\n",
    "                            'Name': [bank_name],\n",
    "                            'MC_USD_Billion': [market_cap]\n",
    "                        })\n",
    "                        df = pd.concat([df, new_row], ignore_index=True)\n",
    "                    except:\n",
    "                        continue\n",
    "\n",
    "            return df\n",
    "\n",
    "        return pd.DataFrame(columns=table_attribs)\n",
    "\n",
    "    except Exception as e:\n",
    "        print(f\"Lỗi: {e}\")\n",
    "        return pd.DataFrame(columns=table_attribs)"
   ],
   "id": "ea9b4fc5f95be481",
   "outputs": [],
   "execution_count": 14
  },
  {
   "metadata": {},
   "cell_type": "markdown",
   "source": "## Transform funtion",
   "id": "2b8d90624cf5020c"
  },
  {
   "metadata": {
    "ExecuteTime": {
     "end_time": "2025-10-06T12:10:42.494709Z",
     "start_time": "2025-10-06T12:10:42.490644Z"
    }
   },
   "cell_type": "code",
   "source": [
    "def transform(df):\n",
    "    ''' Chuyển đổi tỷ giá USD sang các loại tiền khác '''\n",
    "\n",
    "    # Tỷ giá hối đoái (có thể lấy từ API thực tế hoặc dùng tỷ giá cố định)\n",
    "    exchange_rates = {\n",
    "        'GBP': 0.80,   # USD sang GBP\n",
    "        'EUR': 0.93,   # USD sang EUR\n",
    "        'INR': 83.0    # USD sang INR\n",
    "    }\n",
    "\n",
    "    # Tạo bản sao của DataFrame để tránh thay đổi dữ liệu gốc\n",
    "    df_transformed = df.copy()\n",
    "\n",
    "    # Thêm các cột mới với tỷ giá đã chuyển đổi\n",
    "    df_transformed['MC_GBP_Billion'] = round(df_transformed['MC_USD_Billion'] * exchange_rates['GBP'], 2)\n",
    "    df_transformed['MC_EUR_Billion'] = round(df_transformed['MC_USD_Billion'] * exchange_rates['EUR'], 2)\n",
    "    df_transformed['MC_INR_Billion'] = round(df_transformed['MC_USD_Billion'] * exchange_rates['INR'], 2)\n",
    "\n",
    "    print(\"✅ Transform thành công!\")\n",
    "    print(f\"Đã thêm 3 cột mới: GBP, EUR, INR\")\n",
    "\n",
    "    return df_transformed"
   ],
   "id": "afe1e9f99d590051",
   "outputs": [],
   "execution_count": 19
  },
  {
   "metadata": {},
   "cell_type": "markdown",
   "source": "### Result",
   "id": "6449e4c73d14f6d"
  },
  {
   "metadata": {
    "ExecuteTime": {
     "end_time": "2025-10-06T12:11:45.660004Z",
     "start_time": "2025-10-06T12:11:45.649485Z"
    }
   },
   "cell_type": "code",
   "source": [
    "# Gọi hàm transform\n",
    "print(\"Đang thực hiện transform...\")\n",
    "df_transformed = transform(df_extracted)\n",
    "\n",
    "print(\"\\n\" + \"=\"*80)\n",
    "print(\"KẾT QUẢ TRANSFORM - TASK 3b\")\n",
    "print(\"=\"*80)\n",
    "print(df_transformed)\n",
    "print(\"\\n\" + \"=\"*80)\n",
    "print(f\"Shape của DataFrame: {df_transformed.shape}\")\n",
    "print(\"=\"*80)"
   ],
   "id": "3a41d85d8afed30b",
   "outputs": [
    {
     "name": "stdout",
     "output_type": "stream",
     "text": [
      "Đang thực hiện transform...\n",
      "✅ Transform thành công!\n",
      "Đã thêm 3 cột mới: GBP, EUR, INR\n",
      "\n",
      "================================================================================\n",
      "KẾT QUẢ TRANSFORM - TASK 3b\n",
      "================================================================================\n",
      "                                      Name  MC_USD_Billion  MC_GBP_Billion  \\\n",
      "0  Industrial and Commercial Bank of China           535.9          428.72   \n",
      "1                  China Construction Bank           460.2          368.16   \n",
      "2               Agricultural Bank of China           338.6          270.88   \n",
      "3                            Bank of China           305.2          244.16   \n",
      "4                           JPMorgan Chase           293.7          234.96   \n",
      "5                          Bank of America           285.4          228.32   \n",
      "6                              Wells Fargo           278.9          223.12   \n",
      "7                                     HSBC           256.3          205.04   \n",
      "8                                Citigroup           245.8          196.64   \n",
      "9           Mitsubishi UFJ Financial Group           234.1          187.28   \n",
      "\n",
      "   MC_EUR_Billion  MC_INR_Billion  \n",
      "0          498.39         44479.7  \n",
      "1          427.99         38196.6  \n",
      "2          314.90         28103.8  \n",
      "3          283.84         25331.6  \n",
      "4          273.14         24377.1  \n",
      "5          265.42         23688.2  \n",
      "6          259.38         23148.7  \n",
      "7          238.36         21272.9  \n",
      "8          228.59         20401.4  \n",
      "9          217.71         19430.3  \n",
      "\n",
      "================================================================================\n",
      "Shape của DataFrame: (10, 5)\n",
      "================================================================================\n"
     ]
    }
   ],
   "execution_count": 20
  },
  {
   "metadata": {},
   "cell_type": "markdown",
   "source": "## Load to csv file",
   "id": "9d75a21186a1a7e"
  },
  {
   "metadata": {
    "ExecuteTime": {
     "end_time": "2025-10-06T12:13:34.754332Z",
     "start_time": "2025-10-06T12:13:34.749120Z"
    }
   },
   "cell_type": "code",
   "source": [
    "import sqlite3\n",
    "\n",
    "def load_to_csv(df, csv_path):\n",
    "    ''' Lưu DataFrame thành file CSV '''\n",
    "    try:\n",
    "        df.to_csv(csv_path, index=False)\n",
    "        print(f\"✅ Đã lưu CSV thành công: {csv_path}\")\n",
    "        print(f\"   Số hàng: {len(df)}, Số cột: {len(df.columns)}\")\n",
    "    except Exception as e:\n",
    "        print(f\"❌ Lỗi khi lưu CSV: {e}\")\n",
    "\n",
    "def load_to_db(df, sql_connection, table_name):\n",
    "    ''' Tải dữ liệu vào database '''\n",
    "    try:\n",
    "        df.to_sql(table_name, sql_connection, if_exists='replace', index=False)\n",
    "        print(f\"✅ Đã load dữ liệu vào database: {table_name}\")\n",
    "        print(f\"   Số bản ghi: {len(df)}\")\n",
    "    except Exception as e:\n",
    "        print(f\"❌ Lỗi khi load database: {e}\")"
   ],
   "id": "a62330a779d71818",
   "outputs": [],
   "execution_count": 21
  },
  {
   "metadata": {},
   "cell_type": "markdown",
   "source": "## Final code to run",
   "id": "a7c491543e6b3282"
  },
  {
   "metadata": {
    "ExecuteTime": {
     "end_time": "2025-10-06T12:14:37.742559Z",
     "start_time": "2025-10-06T12:14:37.700183Z"
    }
   },
   "cell_type": "code",
   "source": [
    "# --- TASK 4: Lưu CSV và hiển thị nội dung ---\n",
    "print(\"=\"*60)\n",
    "print(\"TASK 4: LƯU VÀ HIỂN THỊ CSV\")\n",
    "print(\"=\"*60)\n",
    "\n",
    "# Lưu file CSV\n",
    "csv_path = \"Largest_banks_data.csv\"\n",
    "load_to_csv(df_transformed, csv_path)\n",
    "\n",
    "# Đọc và hiển thị nội dung CSV\n",
    "print(f\"\\nNỘI DUNG FILE CSV: {csv_path}\")\n",
    "print(\"=\"*60)\n",
    "df_csv = pd.read_csv(csv_path)\n",
    "print(df_csv)\n",
    "print(\"=\"*60)\n",
    "\n",
    "# --- TASK 5: Kết nối database ---\n",
    "print(\"\\n\" + \"=\"*60)\n",
    "print(\"TASK 5: KẾT NỐI DATABASE\")\n",
    "print(\"=\"*60)\n",
    "\n",
    "# Kết nối SQLite\n",
    "db_connection = sqlite3.connect('Banks.db')\n",
    "print(\"✅ Đã kết nối database: Banks.db\")\n",
    "\n",
    "# Load dữ liệu vào database\n",
    "load_to_db(df_transformed, db_connection, 'Largest_banks')\n",
    "\n",
    "print(\"=\"*60)"
   ],
   "id": "d034bd7866f93daa",
   "outputs": [
    {
     "name": "stdout",
     "output_type": "stream",
     "text": [
      "============================================================\n",
      "TASK 4: LƯU VÀ HIỂN THỊ CSV\n",
      "============================================================\n",
      "✅ Đã lưu CSV thành công: Largest_banks_data.csv\n",
      "   Số hàng: 10, Số cột: 5\n",
      "\n",
      "NỘI DUNG FILE CSV: Largest_banks_data.csv\n",
      "============================================================\n",
      "                                      Name  MC_USD_Billion  MC_GBP_Billion  \\\n",
      "0  Industrial and Commercial Bank of China           535.9          428.72   \n",
      "1                  China Construction Bank           460.2          368.16   \n",
      "2               Agricultural Bank of China           338.6          270.88   \n",
      "3                            Bank of China           305.2          244.16   \n",
      "4                           JPMorgan Chase           293.7          234.96   \n",
      "5                          Bank of America           285.4          228.32   \n",
      "6                              Wells Fargo           278.9          223.12   \n",
      "7                                     HSBC           256.3          205.04   \n",
      "8                                Citigroup           245.8          196.64   \n",
      "9           Mitsubishi UFJ Financial Group           234.1          187.28   \n",
      "\n",
      "   MC_EUR_Billion  MC_INR_Billion  \n",
      "0          498.39         44479.7  \n",
      "1          427.99         38196.6  \n",
      "2          314.90         28103.8  \n",
      "3          283.84         25331.6  \n",
      "4          273.14         24377.1  \n",
      "5          265.42         23688.2  \n",
      "6          259.38         23148.7  \n",
      "7          238.36         21272.9  \n",
      "8          228.59         20401.4  \n",
      "9          217.71         19430.3  \n",
      "============================================================\n",
      "\n",
      "============================================================\n",
      "TASK 5: KẾT NỐI DATABASE\n",
      "============================================================\n",
      "✅ Đã kết nối database: Banks.db\n",
      "✅ Đã load dữ liệu vào database: Largest_banks\n",
      "   Số bản ghi: 10\n",
      "============================================================\n"
     ]
    }
   ],
   "execution_count": 22
  },
  {
   "metadata": {},
   "cell_type": "markdown",
   "source": "## SQL Query",
   "id": "72933bf376dadc5f"
  },
  {
   "metadata": {
    "ExecuteTime": {
     "end_time": "2025-10-06T12:15:42.956580Z",
     "start_time": "2025-10-06T12:15:42.944013Z"
    }
   },
   "cell_type": "code",
   "source": [
    "# --- TASK 6: THỰC THI SQL QUERY ---\n",
    "print(\"\\n\" + \"=\"*60)\n",
    "print(\"TASK 6: KẾT QUẢ SQL QUERY\")\n",
    "print(\"=\"*60)\n",
    "\n",
    "# Thực thi query\n",
    "query = \"SELECT * FROM Largest_banks;\"\n",
    "df_sql = pd.read_sql_query(query, db_connection)\n",
    "\n",
    "print(\"Kết quả query: SELECT * FROM Largest_banks;\")\n",
    "print(\"=\"*80)\n",
    "print(df_sql)\n",
    "print(\"=\"*80)\n",
    "print(f\"Số bản ghi: {len(df_sql)}\")\n",
    "\n",
    "# Đóng kết nối\n",
    "db_connection.close()\n",
    "print(\"✅ Đã đóng kết nối database\")"
   ],
   "id": "ae83903a7279388d",
   "outputs": [
    {
     "name": "stdout",
     "output_type": "stream",
     "text": [
      "\n",
      "============================================================\n",
      "TASK 6: KẾT QUẢ SQL QUERY\n",
      "============================================================\n",
      "Kết quả query: SELECT * FROM Largest_banks;\n",
      "================================================================================\n",
      "                                      Name  MC_USD_Billion  MC_GBP_Billion  \\\n",
      "0  Industrial and Commercial Bank of China           535.9          428.72   \n",
      "1                  China Construction Bank           460.2          368.16   \n",
      "2               Agricultural Bank of China           338.6          270.88   \n",
      "3                            Bank of China           305.2          244.16   \n",
      "4                           JPMorgan Chase           293.7          234.96   \n",
      "5                          Bank of America           285.4          228.32   \n",
      "6                              Wells Fargo           278.9          223.12   \n",
      "7                                     HSBC           256.3          205.04   \n",
      "8                                Citigroup           245.8          196.64   \n",
      "9           Mitsubishi UFJ Financial Group           234.1          187.28   \n",
      "\n",
      "   MC_EUR_Billion  MC_INR_Billion  \n",
      "0          498.39         44479.7  \n",
      "1          427.99         38196.6  \n",
      "2          314.90         28103.8  \n",
      "3          283.84         25331.6  \n",
      "4          273.14         24377.1  \n",
      "5          265.42         23688.2  \n",
      "6          259.38         23148.7  \n",
      "7          238.36         21272.9  \n",
      "8          228.59         20401.4  \n",
      "9          217.71         19430.3  \n",
      "================================================================================\n",
      "Số bản ghi: 10\n",
      "✅ Đã đóng kết nối database\n"
     ]
    }
   ],
   "execution_count": 23
  }
 ],
 "metadata": {
  "kernelspec": {
   "display_name": "Python 3",
   "language": "python",
   "name": "python3"
  },
  "language_info": {
   "codemirror_mode": {
    "name": "ipython",
    "version": 2
   },
   "file_extension": ".py",
   "mimetype": "text/x-python",
   "name": "python",
   "nbconvert_exporter": "python",
   "pygments_lexer": "ipython2",
   "version": "2.7.6"
  }
 },
 "nbformat": 4,
 "nbformat_minor": 5
}
